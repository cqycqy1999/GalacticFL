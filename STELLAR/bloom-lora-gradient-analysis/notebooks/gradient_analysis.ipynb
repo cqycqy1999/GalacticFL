{
 "cells": [
  {
   "cell_type": "markdown",
   "metadata": {},
   "source": [
    "# Gradient Analysis for BloomZ-560M with LoRA\n",
    "\n",
    "This notebook provides an interactive environment for analyzing gradients and activations during the fine-tuning of the BloomZ-560M model using LoRA. We will visualize the gradients, compute their similarity, and analyze the Pearson correlation coefficient between different training iterations."
   ]
  },
  {
   "cell_type": "code",
   "execution_count": 1,
   "metadata": {},
   "outputs": [],
   "source": [
    "import torch\n",
    "import matplotlib.pyplot as plt\n",
    "import seaborn as sns\n",
    "from src.utils.gradient_similarity import calculate_gradient_similarity\n",
    "from src.utils.metrics import compute_pearson_correlation\n",
    "from src.utils.data_loader import get_data_loaders\n",
    "from src.models.lora_model import LoRAModel\n",
    "\n",
    "# Set up the device\n",
    "device = torch.device('cuda' if torch.cuda.is_available() else 'cpu')"
   ]
  },
  {
   "cell_type": "code",
   "execution_count": 2,
   "metadata": {},
   "outputs": [],
   "source": [
    "# Load data\n",
    "train_loader, val_loader = get_data_loaders(batch_size=32)\n",
    "\n",
    "# Initialize the LoRA model\n",
    "model = LoRAModel().to(device)"
   ]
  },
  {
   "cell_type": "code",
   "execution_count": 3,
   "metadata": {},
   "outputs": [],
   "source": [
    "# Function to analyze gradients\n",
    "def analyze_gradients(model, data_loader, num_iterations):\n",
    "    gradient_history = []\n",
    "    for iteration in range(num_iterations):\n",
    "        # Simulate training step\n",
    "        for inputs, targets in data_loader:\n",
    "            inputs, targets = inputs.to(device), targets.to(device)\n",
    "            model.zero_grad()\n",
    "            outputs = model(inputs)\n",
    "            loss = torch.nn.functional.cross_entropy(outputs, targets)\n",
    "            loss.backward()\n",
    "            gradients = [param.grad.data.clone() for param in model.parameters() if param.grad is not None]\n",
    "            gradient_history.append(gradients)\n",
    "            break  # For demonstration, break after one batch\n",
    "    return gradient_history"
   ]
  },
  {
   "cell_type": "code",
   "execution_count": 4,
   "metadata": {},
   "outputs": [],
   "source": [
    "# Analyze gradients over a number of iterations\n",
    "num_iterations = 10\n",
    "gradient_history = analyze_gradients(model, train_loader, num_iterations)"
   ]
  },
  {
   "cell_type": "code",
   "execution_count": 5,
   "metadata": {},
   "outputs": [],
   "source": [
    "# Calculate gradient similarity\n",
    "similarity_results = []\n",
    "for i in range(1, len(gradient_history)):\n",
    "    similarity = calculate_gradient_similarity(gradient_history[i-1], gradient_history[i])\n",
    "    similarity_results.append(similarity)\n",
    "    print(f'Gradient similarity between iteration {i-1} and {i}: {similarity}')"
   ]
  },
  {
   "cell_type": "code",
   "execution_count": 6,
   "metadata": {},
   "outputs": [],
   "source": [
    "# Compute Pearson correlation coefficient\n",
    "pearson_results = []\n",
    "for i in range(1, len(gradient_history)):\n",
    "    correlation = compute_pearson_correlation(gradient_history[i-1], gradient_history[i])\n",
    "    pearson_results.append(correlation)\n",
    "    print(f'Pearson correlation between iteration {i-1} and {i}: {correlation}')"
   ]
  },
  {
   "cell_type": "code",
   "execution_count": 7,
   "metadata": {},
   "outputs": [],
   "source": [
    "# Visualize the results\n",
    "plt.figure(figsize=(12, 6))\n",
    "sns.lineplot(data=similarity_results, label='Gradient Similarity')\n",
    "plt.title('Gradient Similarity Over Iterations')\n",
    "plt.xlabel('Iteration')\n",
    "plt.ylabel('Similarity')\n",
    "plt.legend()\n",
    "plt.show()"
   ]
  },
  {
   "cell_type": "code",
   "execution_count": 8,
   "metadata": {},
   "outputs": [],
   "source": [
    "# Visualize Pearson correlation results\n",
    "plt.figure(figsize=(12, 6))\n",
    "sns.lineplot(data=pearson_results, label='Pearson Correlation')\n",
    "plt.title('Pearson Correlation Over Iterations')\n",
    "plt.xlabel('Iteration')\n",
    "plt.ylabel('Correlation Coefficient')\n",
    "plt.legend()\n",
    "plt.show()"
   ]
  }
 ],
 "metadata": {
  "kernelspec": {
   "display_name": "Python 3",
   "language": "python",
   "name": "python3"
  },
  "language_info": {
   "codemirror_mode": {
    "name": "ipython",
    "version": 3
   },
   "file_extension": ".py",
   "mimetype": "text/x-python",
   "name": "python",
   "nbconvert_exporter": "python",
   "pygments_lexer": "ipython3",
   "version": "3.8.5"
  }
 },
 "nbformat": 4,
 "nbformat_minor": 4
}